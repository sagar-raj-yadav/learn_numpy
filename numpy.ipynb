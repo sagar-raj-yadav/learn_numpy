{
 "cells": [
  {
   "cell_type": "code",
   "execution_count": null,
   "metadata": {},
   "outputs": [],
   "source": [
    "#Numpy means numerical python,which is used for mathematical and scientific computation.\n",
    "#mean,variance,standard deviation,median,mode,percentile,quartile in sab ko caculate karne ke liye numpy use hota hai.\n",
    "#It has a function for working in domain of linear algebra, fourier transform and matrices.\n",
    "\n",
    "#Numpy uses less memory to store data.Numpy makes it easy to perform mathematical operations on arrays \n",
    "#and used for creation of n-dimensional arrays and finding element numpy array is easy.\n",
    "\n",
    "#pip install numpy"
   ]
  },
  {
   "cell_type": "code",
   "execution_count": 8,
   "metadata": {},
   "outputs": [
    {
     "name": "stdout",
     "output_type": "stream",
     "text": [
      "[1, 2, 3, 4, 5, 6, 7, 8, 9, 10]\n",
      "[1, 2, 3, 4, 5, 1, 2, 3, 4, 5, 1, 2, 3, 4, 5, 1, 2, 3, 4, 5, 1, 2, 3, 4, 5, 1, 2, 3, 4, 5, 1, 2, 3, 4, 5, 1, 2, 3, 4, 5, 1, 2, 3, 4, 5, 1, 2, 3, 4, 5]\n"
     ]
    }
   ],
   "source": [
    "#example of list\n",
    "l1=[1,2,3,4,5]\n",
    "l2=[6,7,8,9,10]\n",
    "print(l1+l2) #output=[1, 2, 3, 4, 5, 6, 7, 8, 9, 10]\n",
    "# print(l1*l2) #error\n",
    "print(l1*10) #output=l1 ko 10 times print kar dega"
   ]
  },
  {
   "cell_type": "code",
   "execution_count": null,
   "metadata": {},
   "outputs": [
    {
     "name": "stdout",
     "output_type": "stream",
     "text": [
      "[11 12 13 14 15]\n",
      "[ 60  70  80  90 100]\n",
      "[ 6 14 24 36 50]\n",
      "[1, 2, 3, [4, 5]]\n"
     ]
    }
   ],
   "source": [
    "#But array me addition,multiply and caluculation easy ho jata h.\n",
    "import numpy as np\n",
    "a=np.array([1,2,3,4,5])\n",
    "b=np.array([6,7,8,9,10])\n",
    "print(a+10) # output=[11 12 13 14 15]\n",
    "print(b*10)  #output=[60 70 80 90 100]\n",
    "print(a*b) #output=[ 6 14 24 36 50]\n",
    "#Note:array me ek hi DataType ka data store hota h.\n",
    "\n",
    "#array vs list\n",
    "#array takes less memory\n",
    "#array can handle direct mathematical calculation\n",
    "#easier to add,delete element from array\n",
    "#array me diffent size ka nested data nhi store kar sakte h,but list me store kar sakte h.\n",
    "l1=[1,2,3,[4,5]] #output:  [1, 2, 3, [4, 5]]\n",
    "print(l1)  \n",
    "# a1=np.array([1,2,3,[4,5]]) #error"
   ]
  }
 ],
 "metadata": {
  "kernelspec": {
   "display_name": "Python 3",
   "language": "python",
   "name": "python3"
  },
  "language_info": {
   "codemirror_mode": {
    "name": "ipython",
    "version": 3
   },
   "file_extension": ".py",
   "mimetype": "text/x-python",
   "name": "python",
   "nbconvert_exporter": "python",
   "pygments_lexer": "ipython3",
   "version": "3.13.1"
  }
 },
 "nbformat": 4,
 "nbformat_minor": 2
}
